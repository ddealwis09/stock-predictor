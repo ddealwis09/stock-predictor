{
 "cells": [
  {
   "cell_type": "markdown",
   "id": "d9a4edfa",
   "metadata": {},
   "source": [
    "# Week 13 Rubric Questions"
   ]
  },
  {
   "cell_type": "markdown",
   "id": "83dbe27c",
   "metadata": {},
   "source": [
    "### What does it mean to create a Docker image and why do we use Docker images?"
   ]
  },
  {
   "cell_type": "markdown",
   "id": "7fc3e454",
   "metadata": {},
   "source": [
    "- A Docker image is a standalone, lightweight, executable package that includes everything needed to run a piece of software, such as the application code, system tools, libraries, and settings.\n",
    "- Docker images make it easier for developers to package, distribute, and run applications, regardless of the underlying infrastructure:\n",
    "    - Portability: Docker images are platform-independent and can be run on any host that supports Docker, making it easy to move applications between different environments without compatibility issues.\n",
    "    - Consistency: Docker images provide a standardized, reproducible environment for running applications, ensuring that they behave the same way on different machines.\n",
    "    - Efficiency: Docker images are lightweight and take up minimal disk space, making them easy to distribute and deploy.\n",
    "    - Isolation: Docker containers provide a level of isolation between the application and the host operating system, which can improve security and prevent conflicts with other software running on the same machine."
   ]
  },
  {
   "cell_type": "markdown",
   "id": "b14538c6",
   "metadata": {},
   "source": [
    "### Please explain what is the difference from a Container vs a Virtual Machine?"
   ]
  },
  {
   "cell_type": "markdown",
   "id": "fcba67e9",
   "metadata": {},
   "source": [
    "- A container is a lightweight, portable, and self-contained environment that includes all the necessary components to run an application, such as the application code, libraries, and dependencies. \n",
    "- a virtual machine is a fully isolated virtualized environment that emulates a complete computer system, including its own operating system, hardware, and resources.\n",
    "    - Overhead: Containers have lower overhead compared to VMs since they share the host operating system kernel and only require the resources needed to run the application. VMs require their own copy of the operating system, which adds significant overhead and can slow down performance.\n",
    "    - Isolation: Containers are isolated at the application level, while VMs are isolated at the hardware level. This means that containers can be more lightweight and portable, while VMs offer stronger isolation and security.\n",
    "    - Portability: Containers are more portable since they can run on any host that supports the container runtime, regardless of the underlying hardware or operating system. VMs require a hypervisor or virtualization software that supports the specific hardware and operating system."
   ]
  },
  {
   "cell_type": "markdown",
   "id": "1ffa28ff",
   "metadata": {},
   "source": [
    "### What are 5 examples of container orchestration tools (please list tools)?"
   ]
  },
  {
   "cell_type": "markdown",
   "id": "5d993943",
   "metadata": {},
   "source": [
    "1. Kubernetes\n",
    "2. Amazon ECS\n",
    "3. Apache Mesos\n",
    "4. Docker Swarm\n",
    "5. HashiCorp Nomad"
   ]
  },
  {
   "cell_type": "markdown",
   "id": "3fd6b0dd",
   "metadata": {},
   "source": [
    "### How does a Docker image differ from a Docker container?"
   ]
  },
  {
   "cell_type": "markdown",
   "id": "13b43787",
   "metadata": {},
   "source": [
    "- Images are read-only templates that define the application and its dependencies, while containers are lightweight, portable, and runnable instances of an image.\n",
    "- Images are used to create one or more containers, while containers run a specific instance of an image with a writable layer.\n",
    "- Images are built from a Dockerfile, while containers are created from images using the Docker CLI or API.\n",
    "- Images are meant to be shared and reused, while containers are meant to be created, run, and destroyed as needed."
   ]
  }
 ],
 "metadata": {
  "kernelspec": {
   "display_name": "Python 3 (ipykernel)",
   "language": "python",
   "name": "python3"
  },
  "language_info": {
   "codemirror_mode": {
    "name": "ipython",
    "version": 3
   },
   "file_extension": ".py",
   "mimetype": "text/x-python",
   "name": "python",
   "nbconvert_exporter": "python",
   "pygments_lexer": "ipython3",
   "version": "3.8.13"
  }
 },
 "nbformat": 4,
 "nbformat_minor": 5
}
