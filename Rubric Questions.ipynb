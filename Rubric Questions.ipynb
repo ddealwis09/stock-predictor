{
 "cells": [
  {
   "cell_type": "markdown",
   "id": "d37699f8",
   "metadata": {},
   "source": [
    "### How does the Prophet Algorithm differ from an LSTM?\n"
   ]
  },
  {
   "cell_type": "markdown",
   "id": "8ec1dcb6",
   "metadata": {},
   "source": [
    "- prophet is a decomposable time series model with three components:\n",
    "    - trend, seasonality and holidays\n",
    "- prophet is frames  the  forecasting  problem  as  a  curve-fitting  exercise,  which is  inherently  different  from  time  series  models  that  explicitly  account  for  the  temporal dependence structure in the data.  \n",
    "- LSTM is a neural network architecture that uses time lags as inputs into the model and outputs predictions n steps ahead. \n",
    "- The main advantage of Prophet is its simplicity and ease of use. It requires minimal data preprocessing and can handle missing data and outliers in a robust manner. It also provides good results with a relatively small amount of training data, making it a good choice for many real-world forecasting problems at scale."
   ]
  },
  {
   "cell_type": "markdown",
   "id": "1a2699c0",
   "metadata": {},
   "source": [
    "### Why does an LSTM have poor performance against ARIMA and Prophet for Time Series?"
   ]
  },
  {
   "cell_type": "markdown",
   "id": "2a6ac633",
   "metadata": {},
   "source": [
    "- LSTMs require a lot of data as inputs \n",
    "- Require feature transformations for the inputs which needs to be done correctly or could lead to poor performance\n",
    "- The model needs to be configured correctly (correct architecture) for the specific time series in question"
   ]
  },
  {
   "cell_type": "markdown",
   "id": "0b815076",
   "metadata": {},
   "source": [
    "### What is exponential smoothing and why is it used in Time Series Forecasting?"
   ]
  },
  {
   "cell_type": "markdown",
   "id": "1d97af06",
   "metadata": {},
   "source": [
    "- Exponential smoothing is a time series forecasting method that uses weighted averages of past observations to predict future points. The idea behind exponential smoothing is to assign exponentially decreasing weights to older observations as they become less relevant for forecasting future points. The most recent observations carry the most weight in the forecast, while older observations are given decreasingly smaller weights."
   ]
  },
  {
   "cell_type": "markdown",
   "id": "49b27b6a",
   "metadata": {},
   "source": [
    "### What is stationarity? What is seasonality? Why Is Stationarity Important in Time Series Forecasting?\n"
   ]
  },
  {
   "cell_type": "markdown",
   "id": "d5ebeb0d",
   "metadata": {},
   "source": [
    "- Stationarity is a property of a time series data where the statistical properties, such as mean and variance, remain constant over time. In other words, a stationary time series has a consistent pattern and does not exhibit trends or seasonality.\n",
    "- Seasonality is a repeating pattern in a time series data that occurs over a fixed time period, such as daily, weekly, or yearly. Seasonality can be observed in many time series, such as sales data, temperature data, or stock prices, and is an important factor to consider when forecasting future points.\n",
    "- Stationarity is important in time series forecasting because many statistical methods, including exponential smoothing and ARIMA, assume that the time series data is stationary. This is because stationary time series are easier to model and make predictions for, as they do not exhibit trends or seasonality.\n",
    "- In non-stationary time series, the mean and variance change over time, making it difficult to make accurate predictions. To address this, the non-stationary time series must be transformed into a stationary time series through a process known as differencing.\n",
    "\n"
   ]
  },
  {
   "cell_type": "markdown",
   "id": "a1e3aaed",
   "metadata": {},
   "source": [
    "### How is seasonality different from cyclicality? "
   ]
  },
  {
   "cell_type": "markdown",
   "id": "36cc8b55",
   "metadata": {},
   "source": [
    "- **Seasonality** refers to a pattern in a time series that repeats over a fixed and regular interval, such as daily, weekly, or yearly. For example, sales of winter clothing are usually higher during the winter months, while sales of ice cream are higher in the summer months. This regular pattern in the data is considered seasonality.\n",
    "- **Cyclicality** refers to fluctuations in a time series that occur over a longer, less regular interval. For example, economic activity may fluctuate in a pattern that repeats every 5-10 years. These fluctuations are considered cyclical because they are not tied to a fixed and regular interval, but rather follow a more general pattern.\n",
    "\n"
   ]
  },
  {
   "cell_type": "markdown",
   "id": "54171c4b",
   "metadata": {},
   "source": [
    "### Fill in the blanks: \n",
    "\n",
    "### ___ is predictable, whereas ___ is not."
   ]
  },
  {
   "cell_type": "markdown",
   "id": "fff0e041",
   "metadata": {},
   "source": [
    "- **Seasonality** is predictable, whereas **cyclicality** is not."
   ]
  }
 ],
 "metadata": {
  "kernelspec": {
   "display_name": "Python 3 (ipykernel)",
   "language": "python",
   "name": "python3"
  },
  "language_info": {
   "codemirror_mode": {
    "name": "ipython",
    "version": 3
   },
   "file_extension": ".py",
   "mimetype": "text/x-python",
   "name": "python",
   "nbconvert_exporter": "python",
   "pygments_lexer": "ipython3",
   "version": "3.8.13"
  }
 },
 "nbformat": 4,
 "nbformat_minor": 5
}
